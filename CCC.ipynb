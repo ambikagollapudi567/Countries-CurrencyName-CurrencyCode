{
 "cells": [
  {
   "cell_type": "code",
   "execution_count": 1,
   "metadata": {},
   "outputs": [],
   "source": [
    "import pandas as pd\n",
    "from bs4 import BeautifulSoup\n",
    "from urllib.request import urlopen,Request\n",
    "url = \"http://www.exchange-rate.com/currency-list.html\""
   ]
  },
  {
   "cell_type": "code",
   "execution_count": 2,
   "metadata": {},
   "outputs": [],
   "source": [
    "request = Request(url)\n",
    "response = urlopen(request)\n",
    "html = response.read()\n",
    "html_soup = BeautifulSoup(html , 'html.parser')"
   ]
  },
  {
   "cell_type": "code",
   "execution_count": 3,
   "metadata": {},
   "outputs": [],
   "source": [
    "#print(html_soup)"
   ]
  },
  {
   "cell_type": "code",
   "execution_count": 4,
   "metadata": {},
   "outputs": [],
   "source": [
    "Rates=html_soup.find_all('td')"
   ]
  },
  {
   "cell_type": "code",
   "execution_count": 5,
   "metadata": {},
   "outputs": [],
   "source": [
    "#print(Rates)"
   ]
  },
  {
   "cell_type": "code",
   "execution_count": 6,
   "metadata": {},
   "outputs": [],
   "source": [
    "Country=[]\n",
    "CurrencyName=[]\n",
    "CurrencyCode=[]\n",
    "Comment=[]\n",
    "#print(len(Rates))\n",
    "r=4\n",
    "for i in range(0,249):\n",
    "    \n",
    "    first=Rates[r].text.strip()\n",
    "    Country.append(first)\n",
    "    r+=1\n",
    "    second=Rates[r].text.strip()\n",
    "    CurrencyName.append(second)\n",
    "    r+=1\n",
    "    third=Rates[r].text.strip()\n",
    "    CurrencyCode.append(third)\n",
    "    r+=1\n",
    "    fourth=Rates[r].text.strip()\n",
    "    Comment.append(fourth)\n",
    "    r+=1\n",
    "    \n",
    "\n",
    "          \n",
    "\n",
    "   \n",
    "   \n",
    "    \n",
    "CCC=pd.DataFrame({'Country':Country,'CurrencyName':CurrencyName,'CurrencyCode':CurrencyCode})\n",
    "    \n",
    "    "
   ]
  },
  {
   "cell_type": "code",
   "execution_count": 12,
   "metadata": {},
   "outputs": [
    {
     "name": "stdout",
     "output_type": "stream",
     "text": [
      "               Country           CurrencyName CurrencyCode\n",
      "0          Afghanistan                Afghani          AFN\n",
      "1        Åland Islands                   Euro          EUR\n",
      "2              Albania                    Lek          ALL\n",
      "3              Algeria         Algerian Dinar          DZD\n",
      "4       American Samoa              US Dollar          USD\n",
      "5              Andorra                   Euro          EUR\n",
      "6               Angola                 Kwanza          AOA\n",
      "7             Anguilla  East Caribbean Dollar          XCD\n",
      "8           Antarctica  No universal currency             \n",
      "9  Antigua and Barbuda  East Caribbean Dollar          XCD\n"
     ]
    }
   ],
   "source": [
    "print(CCC.head(10))"
   ]
  },
  {
   "cell_type": "code",
   "execution_count": 7,
   "metadata": {},
   "outputs": [],
   "source": [
    " CCC.to_csv(\"CountriesCurrencyList.csv\")"
   ]
  },
  {
   "cell_type": "code",
   "execution_count": 8,
   "metadata": {},
   "outputs": [],
   "source": [
    "#CCC=pd.DataFrame({'Country':Country,'CurrencyCode':CurrencyCode})\n",
    "    "
   ]
  },
  {
   "cell_type": "code",
   "execution_count": 9,
   "metadata": {},
   "outputs": [],
   "source": [
    "#print(CCC)"
   ]
  },
  {
   "cell_type": "code",
   "execution_count": null,
   "metadata": {},
   "outputs": [],
   "source": []
  }
 ],
 "metadata": {
  "kernelspec": {
   "display_name": "Python 3",
   "language": "python",
   "name": "python3"
  },
  "language_info": {
   "codemirror_mode": {
    "name": "ipython",
    "version": 3
   },
   "file_extension": ".py",
   "mimetype": "text/x-python",
   "name": "python",
   "nbconvert_exporter": "python",
   "pygments_lexer": "ipython3",
   "version": "3.7.3"
  }
 },
 "nbformat": 4,
 "nbformat_minor": 2
}
